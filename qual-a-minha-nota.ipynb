{
 "cells": [
  {
   "cell_type": "code",
   "execution_count": 1,
   "id": "8266a76b",
   "metadata": {},
   "outputs": [],
   "source": [
    "import pickle\n",
    "import numpy as np\n",
    "import pandas as pd\n",
    "import matplotlib.pyplot as plt\n",
    "import seaborn as sns\n",
    "from math import sqrt\n",
    "\n",
    "from sklearn.model_selection import train_test_split, GridSearchCV\n",
    "from sklearn.metrics import mean_squared_error,r2_score, make_scorer\n",
    "from sklearn.preprocessing import LabelEncoder, StandardScaler\n",
    "from sklearn.feature_selection import RFECV, SelectFromModel\n",
    "\n",
    "from sklearn.linear_model import LinearRegression\n",
    "from sklearn.ensemble import RandomForestRegressor"
   ]
  },
  {
   "cell_type": "code",
   "execution_count": 2,
   "id": "dbfc8aac",
   "metadata": {
    "code_folding": [
     0
    ]
   },
   "outputs": [],
   "source": [
    "def save_model(model, name = \"model.pickle\"):\n",
    "    # Save model into pickle file\n",
    "    with open(name, 'wb') as dump_file:\n",
    "        pickle.dump(model, dump_file)"
   ]
  },
  {
   "cell_type": "code",
   "execution_count": 3,
   "id": "a343fb29",
   "metadata": {
    "code_folding": [
     0
    ]
   },
   "outputs": [],
   "source": [
    "def load_model(name='model.pickle'):\n",
    "    # Load pickle model\n",
    "    pickle_in = open(name, 'rb')\n",
    "    return pickle.load(pickle_in)"
   ]
  },
  {
   "cell_type": "code",
   "execution_count": 4,
   "id": "3d4070f3",
   "metadata": {
    "code_folding": []
   },
   "outputs": [],
   "source": [
    "# Import data sets\n",
    "stud = pd.read_csv(\"student_data.csv\")\n",
    "test = pd.read_csv(\"test_data.csv\")"
   ]
  },
  {
   "cell_type": "code",
   "execution_count": 5,
   "id": "ba8dd812",
   "metadata": {},
   "outputs": [],
   "source": [
    "# Remove index column\n",
    "stud = stud.iloc[:,1:]\n",
    "test = test.iloc[:,1:]"
   ]
  },
  {
   "cell_type": "code",
   "execution_count": 6,
   "id": "c613c160",
   "metadata": {},
   "outputs": [],
   "source": [
    "def get_guardian(row):\n",
    "    guardians_list = [row[\"guardian_father\"], row[\"guardian_mother\"],row[\"guardian_other\"]]\n",
    "    return guardians_list.index(max(guardians_list))"
   ]
  },
  {
   "cell_type": "code",
   "execution_count": 7,
   "id": "cb0d85f0",
   "metadata": {},
   "outputs": [],
   "source": [
    "def get_mjob(row):\n",
    "    jobs_list = [\n",
    "        row[\"Mjob_at_home\"],\n",
    "        row[\"Mjob_health\"],\n",
    "        row[\"Mjob_other\"],\n",
    "        row[\"Mjob_services\"],\n",
    "        row[\"Mjob_teacher\"],\n",
    "    ]\n",
    "    return jobs_list.index(max(jobs_list))"
   ]
  },
  {
   "cell_type": "code",
   "execution_count": 8,
   "id": "e3532a76",
   "metadata": {},
   "outputs": [],
   "source": [
    "def get_fjob(row):\n",
    "    jobs_list = [\n",
    "        row[\"Fjob_at_home\"],\n",
    "        row[\"Fjob_health\"],\n",
    "        row[\"Fjob_other\"],\n",
    "        row[\"Fjob_services\"],\n",
    "        row[\"Fjob_teacher\"],\n",
    "    ]\n",
    "    return jobs_list.index(max(jobs_list))"
   ]
  },
  {
   "cell_type": "code",
   "execution_count": 9,
   "id": "4606bead",
   "metadata": {},
   "outputs": [],
   "source": [
    "# Clean sets\n",
    "def _clean(df):\n",
    "    # Merge \"yes\" \"no\" columns\n",
    "    for c in df.columns:\n",
    "        if \"_yes\" in c:\n",
    "            name = c.split(\"_\")[0]\n",
    "            df[name] = df[c]\n",
    "            df.drop(columns=[c, f\"{name}_no\"], axis = 1, inplace = True)\n",
    "            \n",
    "    # Merge \"school_ms\" \"school_gp\"\n",
    "    df[\"school\"] = df[\"school_GP\"]\n",
    "    df.drop(columns=[\"school_MS\", \"school_GP\"], axis = 1, inplace = True)\n",
    "    \n",
    "    #Merge \"sex_m\" \"sex_f\"\n",
    "    df[\"sex\"] = df[\"sex_M\"]\n",
    "    df.drop(columns=[\"sex_M\", \"sex_F\"], axis = 1, inplace = True)\n",
    "    \n",
    "    #Merge guardian\n",
    "    df[\"guardian\"] = df.apply(get_guardian, axis=1)\n",
    "    df.drop(columns=[\"guardian_father\",\"guardian_mother\", \"guardian_other\"], axis = 1, inplace = True)\n",
    "\n",
    "    #Merge famsize\n",
    "    df[\"famsize\"] = df[\"famsize_GT3\"]\n",
    "    df.drop(columns=[\"famsize_GT3\", \"famsize_LE3\"], axis=1, inplace= True)\n",
    "    \n",
    "    #Merge addrs\n",
    "    df[\"address\"] = df[\"address_R\"]\n",
    "    df.drop(columns=[\"address_R\", \"address_U\"], axis=1, inplace= True)\n",
    "    \n",
    "    #Merge Pstatus\n",
    "    df[\"pstatus\"] = df[\"Pstatus_A\"]\n",
    "    df.drop(columns=[\"Pstatus_A\", \"Pstatus_T\"], axis=1, inplace= True)\n",
    "    \n",
    "    #Merge jobs\n",
    "    df[\"mjob\"] = df.apply(get_mjob, axis=1)\n",
    "    df[\"fjob\"] = df.apply(get_fjob, axis=1)\n",
    "    df.drop(columns=[\n",
    "            \"Fjob_at_home\",\n",
    "            \"Fjob_health\",\n",
    "            \"Fjob_other\",\n",
    "            \"Fjob_services\",\n",
    "            \"Fjob_teacher\",\n",
    "            \"Mjob_at_home\",\n",
    "            \"Mjob_health\",\n",
    "            \"Mjob_other\",\n",
    "            \"Mjob_services\",\n",
    "            \"Mjob_teacher\"], axis=1, inplace=True)"
   ]
  },
  {
   "cell_type": "code",
   "execution_count": 10,
   "id": "311d3664",
   "metadata": {},
   "outputs": [],
   "source": [
    "_clean(stud)\n",
    "_clean(test)"
   ]
  },
  {
   "cell_type": "code",
   "execution_count": 11,
   "id": "bf438e1f",
   "metadata": {},
   "outputs": [],
   "source": [
    "# Separate df in features and labels\n",
    "X = stud.drop(columns=\"G3\", axis=1)\n",
    "features = X.columns\n",
    "y = stud[\"G3\"]"
   ]
  },
  {
   "cell_type": "code",
   "execution_count": 13,
   "id": "bb15541d",
   "metadata": {},
   "outputs": [],
   "source": [
    "sc = StandardScaler()\n",
    "X = sc.fit_transform(X)"
   ]
  },
  {
   "cell_type": "code",
   "execution_count": 14,
   "id": "ea0b0a3e",
   "metadata": {},
   "outputs": [],
   "source": [
    "# Split into training and test\n",
    "X_train, X_test, y_train, y_test = train_test_split(X, y, random_state=42, test_size=0.25)"
   ]
  },
  {
   "cell_type": "code",
   "execution_count": 15,
   "id": "ffc430b3",
   "metadata": {},
   "outputs": [
    {
     "name": "stdout",
     "output_type": "stream",
     "text": [
      "RMSE: 2.712373781919947\n"
     ]
    }
   ],
   "source": [
    "# Random forest regressor\n",
    "rf = RandomForestRegressor(random_state=42)\n",
    "rf.fit(X_train, y_train)\n",
    "\n",
    "# Get model score\n",
    "predicted = rf.predict(X_test)\n",
    "rmse = sqrt(mean_squared_error(y_test, predicted))\n",
    "print(\"RMSE:\", rmse)"
   ]
  },
  {
   "cell_type": "code",
   "execution_count": 17,
   "id": "b64711be",
   "metadata": {},
   "outputs": [],
   "source": [
    "save_model(rf)"
   ]
  },
  {
   "cell_type": "code",
   "execution_count": 19,
   "id": "431ba024",
   "metadata": {},
   "outputs": [
    {
     "name": "stdout",
     "output_type": "stream",
     "text": [
      "[13.   13.24 13.38 10.46 13.79 11.5   8.83 11.99 12.98 11.54  8.09 12.96\n",
      " 12.78 12.67 12.01  7.87 12.71 11.18  7.98  9.53 12.64 13.05 12.73 12.78\n",
      " 13.09  8.27 11.64 12.58 13.29  9.02 11.5   9.75 11.45 11.28 12.   12.65\n",
      " 13.54 13.08 11.49 11.85 13.25 13.5  13.69  9.56  8.78 11.73 11.88 10.41\n",
      " 10.   13.65 11.91 10.14 10.07 11.81 12.8  13.94 11.55 12.95 10.81 12.61\n",
      "  8.61 13.26 11.91 10.53 13.37  9.38 14.58 14.59  9.6   8.67  8.79  9.33\n",
      " 12.08  9.48 11.03 12.58 10.21 13.89 13.42 11.26 12.92  7.77 12.02 10.13\n",
      "  9.78 11.88 13.39  9.91 10.64 13.86  9.77 13.08 12.17 13.33 11.42 14.02\n",
      " 10.35 12.56  9.43  7.08  8.3  15.03  8.48 11.95]\n"
     ]
    }
   ],
   "source": [
    "pickle_model = load_model()\n",
    "_test = sc.fit_transform(test)\n",
    "predictions = pickle_model.predict(_test)\n",
    "\n",
    "print(predictions)\n",
    "\n",
    "results_df = pd.DataFrame(data=predictions, columns=[\"G3\"])\n",
    "results_df.to_csv('submission.csv',index=True, index_label=\"index\")"
   ]
  }
 ],
 "metadata": {
  "kernelspec": {
   "display_name": "Python 3 (ipykernel)",
   "language": "python",
   "name": "python3"
  },
  "language_info": {
   "codemirror_mode": {
    "name": "ipython",
    "version": 3
   },
   "file_extension": ".py",
   "mimetype": "text/x-python",
   "name": "python",
   "nbconvert_exporter": "python",
   "pygments_lexer": "ipython3",
   "version": "3.9.12"
  }
 },
 "nbformat": 4,
 "nbformat_minor": 5
}
