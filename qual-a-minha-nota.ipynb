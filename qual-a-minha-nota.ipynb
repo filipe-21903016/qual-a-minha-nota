{
 "cells": [
  {
   "cell_type": "code",
   "execution_count": 1,
   "id": "8266a76b",
   "metadata": {},
   "outputs": [],
   "source": [
    "import pickle\n",
    "import numpy as np\n",
    "import pandas as pd\n",
    "import matplotlib.pyplot as plt\n",
    "import seaborn as sns\n",
    "from math import sqrt\n",
    "\n",
    "from sklearn.model_selection import train_test_split, GridSearchCV\n",
    "from sklearn.metrics import mean_squared_error,r2_score, make_scorer\n",
    "from sklearn.preprocessing import LabelEncoder, StandardScaler\n",
    "\n",
    "from sklearn.linear_model import LinearRegression\n",
    "from sklearn.ensemble import RandomForestRegressor"
   ]
  },
  {
   "cell_type": "code",
   "execution_count": 2,
   "id": "dbfc8aac",
   "metadata": {
    "code_folding": [
     0
    ]
   },
   "outputs": [],
   "source": [
    "def save_model(model, name = \"model.pickle\"):\n",
    "    # Save model into pickle file\n",
    "    with open(name, 'wb') as dump_file:\n",
    "        pickle.dump(model, dump_file)"
   ]
  },
  {
   "cell_type": "code",
   "execution_count": 3,
   "id": "a343fb29",
   "metadata": {
    "code_folding": [
     0
    ]
   },
   "outputs": [],
   "source": [
    "def load_model(name='model.pickle'):\n",
    "    # Load pickle model\n",
    "    pickle_in = open(name, 'rb')\n",
    "    return pickle.load(pickle_in)"
   ]
  },
  {
   "cell_type": "code",
   "execution_count": 4,
   "id": "3d4070f3",
   "metadata": {
    "code_folding": []
   },
   "outputs": [],
   "source": [
    "# Import data sets\n",
    "stud = pd.read_csv(\"student_data.csv\")\n",
    "test = pd.read_csv(\"test_data.csv\")"
   ]
  },
  {
   "cell_type": "code",
   "execution_count": 5,
   "id": "4716a1f1",
   "metadata": {},
   "outputs": [],
   "source": [
    "# Remove index column\n",
    "stud = stud.iloc[:,1:]\n",
    "test = test.iloc[:,1:]"
   ]
  },
  {
   "cell_type": "code",
   "execution_count": 6,
   "id": "3f626cae",
   "metadata": {},
   "outputs": [],
   "source": [
    "# Clean sets\n",
    "def _clean(df):\n",
    "    # Merge \"yes\" \"no\" columns\n",
    "    for c in df.columns:\n",
    "        if \"_yes\" in c:\n",
    "            name = c.split(\"_\")[0]\n",
    "            df[name] = df[c]\n",
    "            df.drop(columns=[c, f\"{name}_no\"], axis = 1, inplace = True)\n",
    "            \n",
    "    # Merge \"school_ms\" \"school_gp\"\n",
    "    df[\"school\"] = df[\"school_GP\"]\n",
    "    df.drop(columns=[\"school_MS\", \"school_GP\"], axis = 1, inplace = True)\n",
    "    \n",
    "    #Merge \"sex_m\" \"sex_f\"\n",
    "    df[\"sex\"] = df[\"sex_M\"]\n",
    "    df.drop(columns=[\"sex_M\", \"sex_F\"], axis = 1, inplace = True)\n",
    "    \n",
    "    #Merge"
   ]
  },
  {
   "cell_type": "code",
   "execution_count": 7,
   "id": "b9f3feab",
   "metadata": {},
   "outputs": [],
   "source": [
    "_clean(stud)\n",
    "_clean(test)"
   ]
  },
  {
   "cell_type": "code",
   "execution_count": 8,
   "id": "bbea5e59",
   "metadata": {},
   "outputs": [
    {
     "data": {
      "text/plain": [
       "Index(['age', 'Medu', 'Fedu', 'traveltime', 'studytime', 'failures', 'famrel',\n",
       "       'freetime', 'goout', 'Dalc', 'Walc', 'health', 'absences', 'G3',\n",
       "       'address_R', 'address_U', 'famsize_GT3', 'famsize_LE3', 'Pstatus_A',\n",
       "       'Pstatus_T', 'Mjob_at_home', 'Mjob_health', 'Mjob_other',\n",
       "       'Mjob_services', 'Mjob_teacher', 'Fjob_at_home', 'Fjob_health',\n",
       "       'Fjob_other', 'Fjob_services', 'Fjob_teacher', 'reason_course',\n",
       "       'reason_home', 'reason_other', 'reason_reputation', 'guardian_father',\n",
       "       'guardian_mother', 'guardian_other', 'schoolsup', 'famsup', 'paid',\n",
       "       'activities', 'nursery', 'higher', 'internet', 'romantic', 'school',\n",
       "       'sex'],\n",
       "      dtype='object')"
      ]
     },
     "execution_count": 8,
     "metadata": {},
     "output_type": "execute_result"
    }
   ],
   "source": [
    "stud.columns"
   ]
  },
  {
   "cell_type": "code",
   "execution_count": 9,
   "id": "df81f8ca",
   "metadata": {},
   "outputs": [],
   "source": [
    "# Separate df in features and labels\n",
    "X = stud.drop(columns=\"G3\", axis=1)\n",
    "y = stud[\"G3\"]"
   ]
  },
  {
   "cell_type": "code",
   "execution_count": 10,
   "id": "0b3f458c",
   "metadata": {},
   "outputs": [],
   "source": [
    "sc = StandardScaler()\n",
    "X = sc.fit_transform(X)"
   ]
  },
  {
   "cell_type": "code",
   "execution_count": 15,
   "id": "2f44169e",
   "metadata": {},
   "outputs": [],
   "source": [
    "# Split into training and test\n",
    "X_train, X_test, y_train, y_test = train_test_split(X, y, random_state=42, test_size=0.3)"
   ]
  },
  {
   "cell_type": "code",
   "execution_count": 22,
   "id": "61fc613b",
   "metadata": {},
   "outputs": [
    {
     "name": "stdout",
     "output_type": "stream",
     "text": [
      "RMSE: 2.7526187697796294\n"
     ]
    }
   ],
   "source": [
    "# Random forest regressor\n",
    "rr = RandomForestRegressor()\n",
    "rr.fit(X_train, y_train)\n",
    "\n",
    "# Get model score\n",
    "predicted = rr.predict(X_test)\n",
    "rmse = sqrt(mean_squared_error(y_test, predicted))\n",
    "print(\"RMSE:\", rmse)"
   ]
  },
  {
   "cell_type": "code",
   "execution_count": 23,
   "id": "48df3219",
   "metadata": {},
   "outputs": [],
   "source": [
    "save_model(rr)"
   ]
  },
  {
   "cell_type": "code",
   "execution_count": 24,
   "id": "4161cfc9",
   "metadata": {},
   "outputs": [
    {
     "name": "stdout",
     "output_type": "stream",
     "text": [
      "[13.03 13.88 13.4  10.86 14.15 12.16  9.07 12.25 13.92 12.31  8.63 12.98\n",
      " 12.87 12.71 12.16  7.72 13.62 11.07  7.56  8.81 12.94 13.18 12.83 12.93\n",
      " 12.52  8.15 11.48 12.25 13.86  8.98 11.3   9.59 11.8  10.   12.68 12.52\n",
      " 13.77 13.13 11.14 11.81 13.21 13.2  13.52  9.64  9.   11.6  12.15 10.96\n",
      " 10.29 13.3  11.65 10.05 10.26 11.62 12.4  14.21 11.11 12.51 10.25 12.37\n",
      "  8.57 12.66 12.53 10.52 13.33  9.36 14.37 14.17  9.63  8.32  7.89  9.55\n",
      " 12.57  9.06 11.8  12.68 10.66 13.4  13.39 12.16 12.98  6.96 11.93  9.73\n",
      "  9.71 11.87 13.12 10.15  9.04 13.78  9.75 13.81 12.34 13.8  11.64 13.75\n",
      " 10.64 12.6   9.16  7.68  8.69 14.46  7.85 12.82]\n"
     ]
    }
   ],
   "source": [
    "pickle_model = load_model()\n",
    "_test = sc.fit_transform(test)\n",
    "predictions = pickle_model.predict(_test)\n",
    "\n",
    "print(predictions)\n",
    "\n",
    "results_df = pd.DataFrame(data=predictions, columns=[\"G3\"])\n",
    "results_df.to_csv('submission.csv',index=True, index_label=\"index\")"
   ]
  }
 ],
 "metadata": {
  "kernelspec": {
   "display_name": "Python 3 (ipykernel)",
   "language": "python",
   "name": "python3"
  },
  "language_info": {
   "codemirror_mode": {
    "name": "ipython",
    "version": 3
   },
   "file_extension": ".py",
   "mimetype": "text/x-python",
   "name": "python",
   "nbconvert_exporter": "python",
   "pygments_lexer": "ipython3",
   "version": "3.9.12"
  }
 },
 "nbformat": 4,
 "nbformat_minor": 5
}
